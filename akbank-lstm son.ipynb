{
 "cells": [
  {
   "cell_type": "markdown",
   "id": "6734dc27",
   "metadata": {},
   "source": [
    "Herkesi Merhabalar. bu yazımızda zaman serilerin de en çok kullanılan modellerden biri olan lstm model ile ileriye yönelik tahminler yapmaya çalışacağız. Şöyle bir fark ile ki lstm model ile bir gün değil ileriye yönelik 7 gün tahmini yapmaya çalışacağız. \n",
    "Data seti olarak yahoo finance ile çektiğimiz bir bankanın 2000 yılından itibaren bu zamana kadar olan verisini kullanacağız."
   ]
  },
  {
   "cell_type": "code",
   "execution_count": 1,
   "id": "d6a896cb",
   "metadata": {},
   "outputs": [],
   "source": [
    "import pandas as pd\n",
    "import numpy as np\n",
    "import matplotlib.pyplot as plt\n",
    "import seaborn as sns\n",
    "from sklearn.metrics import r2_score, mean_absolute_error, mean_squared_error \n",
    "import yfinance as yf\n",
    "import mplfinance as mpf\n",
    "\n",
    "\n",
    "import warnings\n",
    "warnings.filterwarnings(\"ignore\")"
   ]
  },
  {
   "cell_type": "markdown",
   "id": "6a3f1f04",
   "metadata": {},
   "source": [
    "# Read the Dataset"
   ]
  },
  {
   "cell_type": "code",
   "execution_count": 2,
   "id": "9c555681",
   "metadata": {},
   "outputs": [
    {
     "name": "stdout",
     "output_type": "stream",
     "text": [
      "[*********************100%***********************]  1 of 1 completed\n"
     ]
    },
    {
     "data": {
      "text/html": [
       "<div>\n",
       "<style scoped>\n",
       "    .dataframe tbody tr th:only-of-type {\n",
       "        vertical-align: middle;\n",
       "    }\n",
       "\n",
       "    .dataframe tbody tr th {\n",
       "        vertical-align: top;\n",
       "    }\n",
       "\n",
       "    .dataframe thead th {\n",
       "        text-align: right;\n",
       "    }\n",
       "</style>\n",
       "<table border=\"1\" class=\"dataframe\">\n",
       "  <thead>\n",
       "    <tr style=\"text-align: right;\">\n",
       "      <th></th>\n",
       "      <th>Open</th>\n",
       "      <th>High</th>\n",
       "      <th>Low</th>\n",
       "      <th>Close</th>\n",
       "      <th>Adj Close</th>\n",
       "      <th>Volume</th>\n",
       "    </tr>\n",
       "    <tr>\n",
       "      <th>Date</th>\n",
       "      <th></th>\n",
       "      <th></th>\n",
       "      <th></th>\n",
       "      <th></th>\n",
       "      <th></th>\n",
       "      <th></th>\n",
       "    </tr>\n",
       "  </thead>\n",
       "  <tbody>\n",
       "    <tr>\n",
       "      <th>2000-05-10</th>\n",
       "      <td>6.137479</td>\n",
       "      <td>6.410256</td>\n",
       "      <td>6.001091</td>\n",
       "      <td>6.137479</td>\n",
       "      <td>-138486.203125</td>\n",
       "      <td>1284067</td>\n",
       "    </tr>\n",
       "    <tr>\n",
       "      <th>2000-05-11</th>\n",
       "      <td>6.137479</td>\n",
       "      <td>6.273867</td>\n",
       "      <td>5.864702</td>\n",
       "      <td>6.137479</td>\n",
       "      <td>-138486.203125</td>\n",
       "      <td>608846</td>\n",
       "    </tr>\n",
       "    <tr>\n",
       "      <th>2000-05-12</th>\n",
       "      <td>6.273867</td>\n",
       "      <td>6.410256</td>\n",
       "      <td>6.001091</td>\n",
       "      <td>6.273867</td>\n",
       "      <td>-141563.656250</td>\n",
       "      <td>2283592</td>\n",
       "    </tr>\n",
       "    <tr>\n",
       "      <th>2000-05-15</th>\n",
       "      <td>6.137479</td>\n",
       "      <td>6.273867</td>\n",
       "      <td>6.001091</td>\n",
       "      <td>6.137479</td>\n",
       "      <td>-138486.203125</td>\n",
       "      <td>122956</td>\n",
       "    </tr>\n",
       "    <tr>\n",
       "      <th>2000-05-16</th>\n",
       "      <td>6.001091</td>\n",
       "      <td>6.137479</td>\n",
       "      <td>5.864702</td>\n",
       "      <td>6.001091</td>\n",
       "      <td>-135408.765625</td>\n",
       "      <td>1331524</td>\n",
       "    </tr>\n",
       "    <tr>\n",
       "      <th>...</th>\n",
       "      <td>...</td>\n",
       "      <td>...</td>\n",
       "      <td>...</td>\n",
       "      <td>...</td>\n",
       "      <td>...</td>\n",
       "      <td>...</td>\n",
       "    </tr>\n",
       "    <tr>\n",
       "      <th>2022-07-18</th>\n",
       "      <td>8.030000</td>\n",
       "      <td>8.290000</td>\n",
       "      <td>8.030000</td>\n",
       "      <td>8.270000</td>\n",
       "      <td>8.270000</td>\n",
       "      <td>87714847</td>\n",
       "    </tr>\n",
       "    <tr>\n",
       "      <th>2022-07-19</th>\n",
       "      <td>8.240000</td>\n",
       "      <td>8.540000</td>\n",
       "      <td>8.180000</td>\n",
       "      <td>8.500000</td>\n",
       "      <td>8.500000</td>\n",
       "      <td>106346801</td>\n",
       "    </tr>\n",
       "    <tr>\n",
       "      <th>2022-07-20</th>\n",
       "      <td>8.540000</td>\n",
       "      <td>8.570000</td>\n",
       "      <td>8.400000</td>\n",
       "      <td>8.560000</td>\n",
       "      <td>8.560000</td>\n",
       "      <td>109726652</td>\n",
       "    </tr>\n",
       "    <tr>\n",
       "      <th>2022-07-21</th>\n",
       "      <td>8.580000</td>\n",
       "      <td>8.670000</td>\n",
       "      <td>8.480000</td>\n",
       "      <td>8.580000</td>\n",
       "      <td>8.580000</td>\n",
       "      <td>85802698</td>\n",
       "    </tr>\n",
       "    <tr>\n",
       "      <th>2022-07-22</th>\n",
       "      <td>8.620000</td>\n",
       "      <td>8.710000</td>\n",
       "      <td>8.590000</td>\n",
       "      <td>8.640000</td>\n",
       "      <td>8.640000</td>\n",
       "      <td>59791572</td>\n",
       "    </tr>\n",
       "  </tbody>\n",
       "</table>\n",
       "<p>5579 rows × 6 columns</p>\n",
       "</div>"
      ],
      "text/plain": [
       "                Open      High       Low     Close      Adj Close     Volume\n",
       "Date                                                                        \n",
       "2000-05-10  6.137479  6.410256  6.001091  6.137479 -138486.203125    1284067\n",
       "2000-05-11  6.137479  6.273867  5.864702  6.137479 -138486.203125     608846\n",
       "2000-05-12  6.273867  6.410256  6.001091  6.273867 -141563.656250    2283592\n",
       "2000-05-15  6.137479  6.273867  6.001091  6.137479 -138486.203125     122956\n",
       "2000-05-16  6.001091  6.137479  5.864702  6.001091 -135408.765625    1331524\n",
       "...              ...       ...       ...       ...            ...        ...\n",
       "2022-07-18  8.030000  8.290000  8.030000  8.270000       8.270000   87714847\n",
       "2022-07-19  8.240000  8.540000  8.180000  8.500000       8.500000  106346801\n",
       "2022-07-20  8.540000  8.570000  8.400000  8.560000       8.560000  109726652\n",
       "2022-07-21  8.580000  8.670000  8.480000  8.580000       8.580000   85802698\n",
       "2022-07-22  8.620000  8.710000  8.590000  8.640000       8.640000   59791572\n",
       "\n",
       "[5579 rows x 6 columns]"
      ]
     },
     "execution_count": 2,
     "metadata": {},
     "output_type": "execute_result"
    }
   ],
   "source": [
    "import yfinance as yf\n",
    "data_df = yf.download(tickers=\"AKBNK.IS\", end=\"2022-07-25\")\n",
    "data_df"
   ]
  },
  {
   "cell_type": "markdown",
   "id": "74a29bfc",
   "metadata": {},
   "source": [
    "yahoo finance apisi bize dünya üzerinde ki  bir çok ülke ki  hisse senetlerinin ve para birimlerinin verisini 1 satırlık kod ile çekmemizi sağlıyor.\n",
    "download metodunun bazı paramaetreleri var. \n",
    "* tickers paramatresine hisse senedi adını yazıyoruz.\n",
    "* start paramaetresi ile istediğimiz tarihten itibaren verileri getirebiliyoruz.\n",
    "* end parametresi ise istedğimiz tarihe kadar olan verileri çekmemize yardımcı oluyor.\n",
    "\n",
    "burada en eski tarihten itibaren olan verileri getirmesini istediğim için start paramatresine herhangi bir tarih vermiyorum"
   ]
  },
  {
   "cell_type": "code",
   "execution_count": 3,
   "id": "ba5f990b",
   "metadata": {},
   "outputs": [
    {
     "name": "stdout",
     "output_type": "stream",
     "text": [
      "<class 'pandas.core.frame.DataFrame'>\n",
      "DatetimeIndex: 5579 entries, 2000-05-10 to 2022-07-22\n",
      "Data columns (total 6 columns):\n",
      " #   Column     Non-Null Count  Dtype  \n",
      "---  ------     --------------  -----  \n",
      " 0   Open       5579 non-null   float64\n",
      " 1   High       5579 non-null   float64\n",
      " 2   Low        5579 non-null   float64\n",
      " 3   Close      5579 non-null   float64\n",
      " 4   Adj Close  5579 non-null   float64\n",
      " 5   Volume     5579 non-null   int64  \n",
      "dtypes: float64(5), int64(1)\n",
      "memory usage: 305.1 KB\n"
     ]
    }
   ],
   "source": [
    "data_df.info()"
   ]
  },
  {
   "cell_type": "markdown",
   "id": "8bc49fe0",
   "metadata": {},
   "source": [
    "elimizde akbanka ait 6 sütün 5579 satırlık veri var. \n",
    "volume int diğerleri ise float veri tipinde."
   ]
  },
  {
   "cell_type": "code",
   "execution_count": 4,
   "id": "f3c8a9cc",
   "metadata": {},
   "outputs": [
    {
     "data": {
      "text/html": [
       "<div>\n",
       "<style scoped>\n",
       "    .dataframe tbody tr th:only-of-type {\n",
       "        vertical-align: middle;\n",
       "    }\n",
       "\n",
       "    .dataframe tbody tr th {\n",
       "        vertical-align: top;\n",
       "    }\n",
       "\n",
       "    .dataframe thead th {\n",
       "        text-align: right;\n",
       "    }\n",
       "</style>\n",
       "<table border=\"1\" class=\"dataframe\">\n",
       "  <thead>\n",
       "    <tr style=\"text-align: right;\">\n",
       "      <th></th>\n",
       "      <th>count</th>\n",
       "      <th>mean</th>\n",
       "      <th>std</th>\n",
       "      <th>min</th>\n",
       "      <th>25%</th>\n",
       "      <th>50%</th>\n",
       "      <th>75%</th>\n",
       "      <th>max</th>\n",
       "    </tr>\n",
       "  </thead>\n",
       "  <tbody>\n",
       "    <tr>\n",
       "      <th>Open</th>\n",
       "      <td>5579.0</td>\n",
       "      <td>5.058235e+00</td>\n",
       "      <td>2.373236e+00</td>\n",
       "      <td>0.362677</td>\n",
       "      <td>3.344045e+00</td>\n",
       "      <td>5.693437e+00</td>\n",
       "      <td>6.808116e+00</td>\n",
       "      <td>9.603388e+00</td>\n",
       "    </tr>\n",
       "    <tr>\n",
       "      <th>High</th>\n",
       "      <td>5579.0</td>\n",
       "      <td>5.125646e+00</td>\n",
       "      <td>2.397054e+00</td>\n",
       "      <td>0.374376</td>\n",
       "      <td>3.426204e+00</td>\n",
       "      <td>5.760000e+00</td>\n",
       "      <td>6.885286e+00</td>\n",
       "      <td>9.650000e+00</td>\n",
       "    </tr>\n",
       "    <tr>\n",
       "      <th>Low</th>\n",
       "      <td>5579.0</td>\n",
       "      <td>4.986654e+00</td>\n",
       "      <td>2.346123e+00</td>\n",
       "      <td>0.327579</td>\n",
       "      <td>3.279736e+00</td>\n",
       "      <td>5.594845e+00</td>\n",
       "      <td>6.722372e+00</td>\n",
       "      <td>9.480000e+00</td>\n",
       "    </tr>\n",
       "    <tr>\n",
       "      <th>Close</th>\n",
       "      <td>5579.0</td>\n",
       "      <td>5.052858e+00</td>\n",
       "      <td>2.369930e+00</td>\n",
       "      <td>0.362677</td>\n",
       "      <td>3.344045e+00</td>\n",
       "      <td>5.691308e+00</td>\n",
       "      <td>6.808116e+00</td>\n",
       "      <td>9.540000e+00</td>\n",
       "    </tr>\n",
       "    <tr>\n",
       "      <th>Adj Close</th>\n",
       "      <td>5579.0</td>\n",
       "      <td>-3.649806e+03</td>\n",
       "      <td>1.063866e+04</td>\n",
       "      <td>-141563.656250</td>\n",
       "      <td>2.416744e+00</td>\n",
       "      <td>4.824937e+00</td>\n",
       "      <td>5.899675e+00</td>\n",
       "      <td>9.540000e+00</td>\n",
       "    </tr>\n",
       "    <tr>\n",
       "      <th>Volume</th>\n",
       "      <td>5579.0</td>\n",
       "      <td>2.597412e+07</td>\n",
       "      <td>3.863686e+07</td>\n",
       "      <td>0.000000</td>\n",
       "      <td>6.855098e+06</td>\n",
       "      <td>1.352965e+07</td>\n",
       "      <td>2.751291e+07</td>\n",
       "      <td>5.006192e+08</td>\n",
       "    </tr>\n",
       "  </tbody>\n",
       "</table>\n",
       "</div>"
      ],
      "text/plain": [
       "            count          mean           std            min           25%  \\\n",
       "Open       5579.0  5.058235e+00  2.373236e+00       0.362677  3.344045e+00   \n",
       "High       5579.0  5.125646e+00  2.397054e+00       0.374376  3.426204e+00   \n",
       "Low        5579.0  4.986654e+00  2.346123e+00       0.327579  3.279736e+00   \n",
       "Close      5579.0  5.052858e+00  2.369930e+00       0.362677  3.344045e+00   \n",
       "Adj Close  5579.0 -3.649806e+03  1.063866e+04 -141563.656250  2.416744e+00   \n",
       "Volume     5579.0  2.597412e+07  3.863686e+07       0.000000  6.855098e+06   \n",
       "\n",
       "                    50%           75%           max  \n",
       "Open       5.693437e+00  6.808116e+00  9.603388e+00  \n",
       "High       5.760000e+00  6.885286e+00  9.650000e+00  \n",
       "Low        5.594845e+00  6.722372e+00  9.480000e+00  \n",
       "Close      5.691308e+00  6.808116e+00  9.540000e+00  \n",
       "Adj Close  4.824937e+00  5.899675e+00  9.540000e+00  \n",
       "Volume     1.352965e+07  2.751291e+07  5.006192e+08  "
      ]
     },
     "execution_count": 4,
     "metadata": {},
     "output_type": "execute_result"
    }
   ],
   "source": [
    "data_df.describe().T"
   ]
  },
  {
   "cell_type": "markdown",
   "id": "609da5fe",
   "metadata": {},
   "source": [
    "veri setimize daha detaylı göz atıyoruz. "
   ]
  },
  {
   "cell_type": "code",
   "execution_count": 5,
   "id": "761a4d05",
   "metadata": {},
   "outputs": [
    {
     "data": {
      "image/png": "[encoded data removed]",
      "text/plain": [
       "<Figure size 1440x504 with 1 Axes>"
      ]
     },
     "metadata": {
      "needs_background": "light"
     },
     "output_type": "display_data"
    }
   ],
   "source": [
    "import matplotlib.pyplot  as plt\n",
    "fig = plt.figure(figsize = (20, 7))\n",
    "plt.plot(data_df[\"Close\"])\n",
    "plt.title(\"Akbank Hisse Senedi Kapanış Fiyatı\")\n",
    "plt.xlabel(\"Zaman\")\n",
    "plt.ylabel(\"Kapanış Fiyatı\")\n",
    "plt.show()"
   ]
  },
  {
   "cell_type": "markdown",
   "id": "5f84e83a",
   "metadata": {},
   "source": [
    "Görüldüğü gibi 2000 yılı içerisinde hisse senedi ani bir düşüşle 1 tl nin altına kadar düşüyor. Ancak 2006- 2007 yıllarından itibaren günümüze kadar benzer şekidel hareket ettiğini gözlemliyoruz. "
   ]
  },
  {
   "cell_type": "code",
   "execution_count": 6,
   "id": "617fbbd7",
   "metadata": {},
   "outputs": [
    {
     "data": {
      "text/html": [
       "<div>\n",
       "<style scoped>\n",
       "    .dataframe tbody tr th:only-of-type {\n",
       "        vertical-align: middle;\n",
       "    }\n",
       "\n",
       "    .dataframe tbody tr th {\n",
       "        vertical-align: top;\n",
       "    }\n",
       "\n",
       "    .dataframe thead th {\n",
       "        text-align: right;\n",
       "    }\n",
       "</style>\n",
       "<table border=\"1\" class=\"dataframe\">\n",
       "  <thead>\n",
       "    <tr style=\"text-align: right;\">\n",
       "      <th></th>\n",
       "      <th>Open</th>\n",
       "      <th>High</th>\n",
       "      <th>Low</th>\n",
       "      <th>Close</th>\n",
       "      <th>Adj Close</th>\n",
       "      <th>Volume</th>\n",
       "    </tr>\n",
       "  </thead>\n",
       "  <tbody>\n",
       "    <tr>\n",
       "      <th>Open</th>\n",
       "      <td>1.000000</td>\n",
       "      <td>0.999555</td>\n",
       "      <td>0.999519</td>\n",
       "      <td>0.999275</td>\n",
       "      <td>0.510340</td>\n",
       "      <td>0.276211</td>\n",
       "    </tr>\n",
       "    <tr>\n",
       "      <th>High</th>\n",
       "      <td>0.999555</td>\n",
       "      <td>1.000000</td>\n",
       "      <td>0.999371</td>\n",
       "      <td>0.999532</td>\n",
       "      <td>0.510102</td>\n",
       "      <td>0.282605</td>\n",
       "    </tr>\n",
       "    <tr>\n",
       "      <th>Low</th>\n",
       "      <td>0.999519</td>\n",
       "      <td>0.999371</td>\n",
       "      <td>1.000000</td>\n",
       "      <td>0.999586</td>\n",
       "      <td>0.510698</td>\n",
       "      <td>0.271763</td>\n",
       "    </tr>\n",
       "    <tr>\n",
       "      <th>Close</th>\n",
       "      <td>0.999275</td>\n",
       "      <td>0.999532</td>\n",
       "      <td>0.999586</td>\n",
       "      <td>1.000000</td>\n",
       "      <td>0.510273</td>\n",
       "      <td>0.277546</td>\n",
       "    </tr>\n",
       "    <tr>\n",
       "      <th>Adj Close</th>\n",
       "      <td>0.510340</td>\n",
       "      <td>0.510102</td>\n",
       "      <td>0.510698</td>\n",
       "      <td>0.510273</td>\n",
       "      <td>1.000000</td>\n",
       "      <td>0.141757</td>\n",
       "    </tr>\n",
       "    <tr>\n",
       "      <th>Volume</th>\n",
       "      <td>0.276211</td>\n",
       "      <td>0.282605</td>\n",
       "      <td>0.271763</td>\n",
       "      <td>0.277546</td>\n",
       "      <td>0.141757</td>\n",
       "      <td>1.000000</td>\n",
       "    </tr>\n",
       "  </tbody>\n",
       "</table>\n",
       "</div>"
      ],
      "text/plain": [
       "               Open      High       Low     Close  Adj Close    Volume\n",
       "Open       1.000000  0.999555  0.999519  0.999275   0.510340  0.276211\n",
       "High       0.999555  1.000000  0.999371  0.999532   0.510102  0.282605\n",
       "Low        0.999519  0.999371  1.000000  0.999586   0.510698  0.271763\n",
       "Close      0.999275  0.999532  0.999586  1.000000   0.510273  0.277546\n",
       "Adj Close  0.510340  0.510102  0.510698  0.510273   1.000000  0.141757\n",
       "Volume     0.276211  0.282605  0.271763  0.277546   0.141757  1.000000"
      ]
     },
     "execution_count": 6,
     "metadata": {},
     "output_type": "execute_result"
    }
   ],
   "source": [
    "kolerasyon = data_df.corr()\n",
    "kolerasyon"
   ]
  },
  {
   "cell_type": "code",
   "execution_count": 7,
   "id": "99dbb4a9",
   "metadata": {},
   "outputs": [
    {
     "data": {
      "image/png": "[encoded data removed]",
      "text/plain": [
       "<Figure size 432x288 with 2 Axes>"
      ]
     },
     "metadata": {
      "needs_background": "light"
     },
     "output_type": "display_data"
    }
   ],
   "source": [
    "sns.heatmap(kolerasyon, annot = True)\n",
    "plt.title(\"Kolerasyon Haritası\")\n",
    "plt.show()"
   ]
  },
  {
   "cell_type": "markdown",
   "id": "a0d05d49",
   "metadata": {},
   "source": [
    "Görüldüğü gibi close değişkenimiziz açılış, kapanış, düşük ve yüksek değerlerle arasında ki kolerasyon 1 yani yüksek pozitif yönlü bir ilişki var."
   ]
  },
  {
   "cell_type": "markdown",
   "id": "4caee1ac",
   "metadata": {},
   "source": [
    "# Bağımlı ve Bağımsız Değişken Seçimi"
   ]
  },
  {
   "cell_type": "code",
   "execution_count": 8,
   "id": "3df0a397",
   "metadata": {},
   "outputs": [
    {
     "data": {
      "text/plain": [
       "Date\n",
       "2000-05-10    6.137479\n",
       "2000-05-11    6.137479\n",
       "2000-05-12    6.273867\n",
       "2000-05-15    6.137479\n",
       "2000-05-16    6.001091\n",
       "Name: Close, dtype: float64"
      ]
     },
     "execution_count": 8,
     "metadata": {},
     "output_type": "execute_result"
    }
   ],
   "source": [
    "close = data_df[\"Close\"]\n",
    "close.head()"
   ]
  },
  {
   "cell_type": "code",
   "execution_count": 9,
   "id": "9c0b5714",
   "metadata": {},
   "outputs": [
    {
     "data": {
      "text/plain": [
       "(5579,)"
      ]
     },
     "execution_count": 9,
     "metadata": {},
     "output_type": "execute_result"
    }
   ],
   "source": [
    "close.shape"
   ]
  },
  {
   "cell_type": "code",
   "execution_count": 10,
   "id": "a03ffb48",
   "metadata": {},
   "outputs": [],
   "source": [
    "#close = close[:5500]"
   ]
  },
  {
   "cell_type": "code",
   "execution_count": 11,
   "id": "d1806697",
   "metadata": {},
   "outputs": [],
   "source": [
    "def to_x_y(frame, time_step, b):\n",
    "    df_as_numpy = frame.values\n",
    "    X = []\n",
    "    y = []\n",
    "    for i in range(len(df_as_numpy)- time_step):\n",
    "        row = [[a for a in df_as_numpy[i:i+time_step]]]\n",
    "        label = [a for a in df_as_numpy[i+time_step: i+time_step+b ]]\n",
    "        X.append(row)\n",
    "        y.append(label)\n",
    "    return np.array(X), np.array(y)    "
   ]
  },
  {
   "cell_type": "code",
   "execution_count": 12,
   "id": "575bdab5",
   "metadata": {},
   "outputs": [],
   "source": [
    "time_step = 15\n",
    "b = 7\n",
    "X, y = to_x_y(close, time_step, b)"
   ]
  },
  {
   "cell_type": "markdown",
   "id": "474845ed",
   "metadata": {},
   "source": [
    "yazdığımız bu fonksiyon yardımı ile bağımı ve bağımısz değişkenimizi oluşturacağız. Bu fonksiyonun 3 parametresi var. birincisi kapanış fiyatı değerlerimiz ikincisi ise time_step yani eğitim setinde geçmişe dönük kaç günlük veri istiyoruz. 3. ise ileriye dönük kaç günlük tahmin almak istiyoruz. Biz bu çalışmada geçmişe dönüş 15 günlük veri ile ileriye dönük 7 günlük tahmin yapacağız. "
   ]
  },
  {
   "cell_type": "code",
   "execution_count": 13,
   "id": "55f4c0f0",
   "metadata": {},
   "outputs": [
    {
     "data": {
      "text/plain": [
       "array([[8.31000042, 8.02000046, 8.02000046, 8.15999985, 7.94999981,\n",
       "        7.80000019, 7.90999985, 8.06000042, 8.09000015, 7.96000004,\n",
       "        7.90999985, 8.27000046, 8.5       , 8.56000042, 8.57999992]])"
      ]
     },
     "execution_count": 13,
     "metadata": {},
     "output_type": "execute_result"
    }
   ],
   "source": [
    "X[-1]"
   ]
  },
  {
   "cell_type": "code",
   "execution_count": 15,
   "id": "c890db7a",
   "metadata": {},
   "outputs": [
    {
     "data": {
      "text/plain": [
       "[8.640000343322754]"
      ]
     },
     "execution_count": 15,
     "metadata": {},
     "output_type": "execute_result"
    }
   ],
   "source": [
    "y[-1]"
   ]
  },
  {
   "cell_type": "code",
   "execution_count": 16,
   "id": "55749114",
   "metadata": {},
   "outputs": [
    {
     "data": {
      "text/plain": [
       "5564"
      ]
     },
     "execution_count": 16,
     "metadata": {},
     "output_type": "execute_result"
    }
   ],
   "source": [
    "len(y)"
   ]
  },
  {
   "cell_type": "code",
   "execution_count": 17,
   "id": "370b3717",
   "metadata": {},
   "outputs": [
    {
     "data": {
      "text/plain": [
       "array([[0., 0., 0.],\n",
       "       [0., 0., 0.],\n",
       "       [0., 0., 0.],\n",
       "       [0., 0., 0.],\n",
       "       [0., 0., 0.]])"
      ]
     },
     "execution_count": 17,
     "metadata": {},
     "output_type": "execute_result"
    }
   ],
   "source": [
    "a = np.zeros((5,3))\n",
    "a"
   ]
  },
  {
   "cell_type": "code",
   "execution_count": 18,
   "id": "ee88360c",
   "metadata": {},
   "outputs": [],
   "source": [
    "y1 = pd.DataFrame(np.zeros((close.shape[0]-time_step, 7)), columns = [0, 1, 2, 3, 4, 5, 6])"
   ]
  },
  {
   "cell_type": "code",
   "execution_count": 19,
   "id": "5b6f6fec",
   "metadata": {},
   "outputs": [],
   "source": [
    "for i in range((len(y))):\n",
    "    for j in range((len(y[i]))):\n",
    "        y1[j][i] = y[i][j]"
   ]
  },
  {
   "cell_type": "code",
   "execution_count": 20,
   "id": "ca6b067e",
   "metadata": {},
   "outputs": [],
   "source": [
    "y1 = y1.values"
   ]
  },
  {
   "cell_type": "code",
   "execution_count": 21,
   "id": "6a2f550c",
   "metadata": {},
   "outputs": [
    {
     "data": {
      "text/plain": [
       "((5564, 1, 15), (5564, 7))"
      ]
     },
     "execution_count": 21,
     "metadata": {},
     "output_type": "execute_result"
    }
   ],
   "source": [
    "X.shape, y1.shape"
   ]
  },
  {
   "cell_type": "code",
   "execution_count": 32,
   "id": "ab14c36e",
   "metadata": {},
   "outputs": [],
   "source": [
    "X = X[:5557]\n",
    "y1 = y1[:5557]"
   ]
  },
  {
   "cell_type": "code",
   "execution_count": 34,
   "id": "491d3bd4",
   "metadata": {},
   "outputs": [
    {
     "data": {
      "text/plain": [
       "(5557, 7)"
      ]
     },
     "execution_count": 34,
     "metadata": {},
     "output_type": "execute_result"
    }
   ],
   "source": [
    "y1.shape"
   ]
  },
  {
   "cell_type": "markdown",
   "id": "d92d1e68",
   "metadata": {},
   "source": [
    "### Train ve Test Split"
   ]
  },
  {
   "cell_type": "code",
   "execution_count": 38,
   "id": "8c6393c6",
   "metadata": {},
   "outputs": [
    {
     "name": "stdout",
     "output_type": "stream",
     "text": [
      "(4500, 1, 15) (4500, 7)\n",
      "(500, 1, 15) (500, 7)\n",
      "(557, 1, 15) (557, 7)\n"
     ]
    }
   ],
   "source": [
    "X_train, y_train = X[:4500], y1[:4500]\n",
    "X_val, y_val = X[4500:5000], y1[4500:5000]\n",
    "X_test, y_test = X[5000:], y1[5000:]\n",
    "print(X_train.shape, y_train.shape)\n",
    "print(X_val.shape, y_val.shape)\n",
    "print(X_test.shape, y_test.shape)"
   ]
  },
  {
   "cell_type": "markdown",
   "id": "62fa6012",
   "metadata": {},
   "source": [
    "Verimizin ilk 4500 değerini train seti, sonraki 500 değeri validation seti ve en son ki 564 değeri ise test seti olarak ayırıyoruz"
   ]
  },
  {
   "cell_type": "code",
   "execution_count": 45,
   "id": "63233408",
   "metadata": {},
   "outputs": [],
   "source": [
    "from keras.models import Sequential\n",
    "from keras.layers import Dense, LSTM, Dropout\n",
    "from tensorflow.keras.optimizers import Adam\n",
    "from sklearn.preprocessing import MinMaxScaler\n",
    "from sklearn.metrics import mean_squared_error, r2_score\n",
    "from keras.callbacks import ModelCheckpoint"
   ]
  },
  {
   "cell_type": "code",
   "execution_count": 45,
   "id": "578adfcf",
   "metadata": {},
   "outputs": [
    {
     "name": "stdout",
     "output_type": "stream",
     "text": [
      "Model: \"sequential_1\"\n",
      "_________________________________________________________________\n",
      " Layer (type)                Output Shape              Param #   \n",
      "=================================================================\n",
      " lstm_1 (LSTM)               (None, 250)               266000    \n",
      "                                                                 \n",
      " dropout_1 (Dropout)         (None, 250)               0         \n",
      "                                                                 \n",
      " dense_1 (Dense)             (None, 7)                 1757      \n",
      "                                                                 \n",
      "=================================================================\n",
      "Total params: 267,757\n",
      "Trainable params: 267,757\n",
      "Non-trainable params: 0\n",
      "_________________________________________________________________\n"
     ]
    }
   ],
   "source": [
    "model = Sequential()\n",
    "model.add(LSTM(250, input_shape = (1,time_step), return_sequences = False))\n",
    "model.add(Dropout(0.3))\n",
    "model.add(Dense(b, activation=  \"linear\"))\n",
    "model.summary()"
   ]
  },
  {
   "cell_type": "markdown",
   "id": "75fbacd7",
   "metadata": {},
   "source": [
    "model yapımızı oluşturduk.burda lstm yapısı içinde 250 tane nöron kullanmayı tercih ettim. dropoutumuz 0.3. output olarak tahmin etmek istediğimiz gün sayısı kadar nöron kullanıyoruz yani yukarıda tanımladığımız b değeri."
   ]
  },
  {
   "cell_type": "code",
   "execution_count": 46,
   "id": "e793208b",
   "metadata": {},
   "outputs": [],
   "source": [
    "cp = ModelCheckpoint(\"model/\" ,save_best_only = True)\n",
    "model.compile(loss ='mean_squared_error', optimizer = \"Adam\")"
   ]
  },
  {
   "cell_type": "code",
   "execution_count": 47,
   "id": "7f1dc169",
   "metadata": {},
   "outputs": [
    {
     "name": "stdout",
     "output_type": "stream",
     "text": [
      "Epoch 1/100\n",
      "131/141 [==========================>...] - ETA: 0s - loss: 2.9543"
     ]
    },
    {
     "name": "stderr",
     "output_type": "stream",
     "text": [
      "WARNING:absl:Found untraced functions such as lstm_cell_1_layer_call_fn, lstm_cell_1_layer_call_and_return_conditional_losses while saving (showing 2 of 2). These functions will not be directly callable after loading.\n"
     ]
    },
    {
     "name": "stdout",
     "output_type": "stream",
     "text": [
      "INFO:tensorflow:Assets written to: model\\assets\n"
     ]
    },
    {
     "name": "stderr",
     "output_type": "stream",
     "text": [
      "INFO:tensorflow:Assets written to: model\\assets\n",
      "WARNING:absl:<keras.layers.recurrent.LSTMCell object at 0x000001F290423760> has the same name 'LSTMCell' as a built-in Keras object. Consider renaming <class 'keras.layers.recurrent.LSTMCell'> to avoid naming conflicts when loading with `tf.keras.models.load_model`. If renaming is not possible, pass the object in the `custom_objects` parameter of the load function.\n"
     ]
    },
    {
     "name": "stdout",
     "output_type": "stream",
     "text": [
      "141/141 [==============================] - 4s 20ms/step - loss: 2.7760 - val_loss: 0.2749\n",
      "Epoch 2/100\n",
      "141/141 [==============================] - ETA: 0s - loss: 0.3044"
     ]
    },
    {
     "name": "stderr",
     "output_type": "stream",
     "text": [
      "WARNING:absl:Found untraced functions such as lstm_cell_1_layer_call_fn, lstm_cell_1_layer_call_and_return_conditional_losses while saving (showing 2 of 2). These functions will not be directly callable after loading.\n"
     ]
    },
    {
     "name": "stdout",
     "output_type": "stream",
     "text": [
      "INFO:tensorflow:Assets written to: model\\assets\n"
     ]
    },
    {
     "name": "stderr",
     "output_type": "stream",
     "text": [
      "INFO:tensorflow:Assets written to: model\\assets\n",
      "WARNING:absl:<keras.layers.recurrent.LSTMCell object at 0x000001F290423760> has the same name 'LSTMCell' as a built-in Keras object. Consider renaming <class 'keras.layers.recurrent.LSTMCell'> to avoid naming conflicts when loading with `tf.keras.models.load_model`. If renaming is not possible, pass the object in the `custom_objects` parameter of the load function.\n"
     ]
    },
    {
     "name": "stdout",
     "output_type": "stream",
     "text": [
      "141/141 [==============================] - 3s 19ms/step - loss: 0.3044 - val_loss: 0.1934\n",
      "Epoch 3/100\n",
      "141/141 [==============================] - 0s 3ms/step - loss: 0.2215 - val_loss: 0.2181\n",
      "Epoch 4/100\n",
      "124/141 [=========================>....] - ETA: 0s - loss: 0.2061"
     ]
    },
    {
     "name": "stderr",
     "output_type": "stream",
     "text": [
      "WARNING:absl:Found untraced functions such as lstm_cell_1_layer_call_fn, lstm_cell_1_layer_call_and_return_conditional_losses while saving (showing 2 of 2). These functions will not be directly callable after loading.\n"
     ]
    },
    {
     "name": "stdout",
     "output_type": "stream",
     "text": [
      "INFO:tensorflow:Assets written to: model\\assets\n"
     ]
    },
    {
     "name": "stderr",
     "output_type": "stream",
     "text": [
      "INFO:tensorflow:Assets written to: model\\assets\n",
      "WARNING:absl:<keras.layers.recurrent.LSTMCell object at 0x000001F290423760> has the same name 'LSTMCell' as a built-in Keras object. Consider renaming <class 'keras.layers.recurrent.LSTMCell'> to avoid naming conflicts when loading with `tf.keras.models.load_model`. If renaming is not possible, pass the object in the `custom_objects` parameter of the load function.\n"
     ]
    },
    {
     "name": "stdout",
     "output_type": "stream",
     "text": [
      "141/141 [==============================] - 2s 17ms/step - loss: 0.2053 - val_loss: 0.1657\n",
      "Epoch 5/100\n",
      "141/141 [==============================] - 0s 3ms/step - loss: 0.1830 - val_loss: 0.1769\n",
      "Epoch 6/100\n",
      "121/141 [========================>.....] - ETA: 0s - loss: 0.1669"
     ]
    },
    {
     "name": "stderr",
     "output_type": "stream",
     "text": [
      "WARNING:absl:Found untraced functions such as lstm_cell_1_layer_call_fn, lstm_cell_1_layer_call_and_return_conditional_losses while saving (showing 2 of 2). These functions will not be directly callable after loading.\n"
     ]
    },
    {
     "name": "stdout",
     "output_type": "stream",
     "text": [
      "INFO:tensorflow:Assets written to: model\\assets\n"
     ]
    },
    {
     "name": "stderr",
     "output_type": "stream",
     "text": [
      "INFO:tensorflow:Assets written to: model\\assets\n",
      "WARNING:absl:<keras.layers.recurrent.LSTMCell object at 0x000001F290423760> has the same name 'LSTMCell' as a built-in Keras object. Consider renaming <class 'keras.layers.recurrent.LSTMCell'> to avoid naming conflicts when loading with `tf.keras.models.load_model`. If renaming is not possible, pass the object in the `custom_objects` parameter of the load function.\n"
     ]
    },
    {
     "name": "stdout",
     "output_type": "stream",
     "text": [
      "141/141 [==============================] - 3s 19ms/step - loss: 0.1684 - val_loss: 0.1436\n",
      "Epoch 7/100\n",
      "125/141 [=========================>....] - ETA: 0s - loss: 0.1575"
     ]
    },
    {
     "name": "stderr",
     "output_type": "stream",
     "text": [
      "WARNING:absl:Found untraced functions such as lstm_cell_1_layer_call_fn, lstm_cell_1_layer_call_and_return_conditional_losses while saving (showing 2 of 2). These functions will not be directly callable after loading.\n"
     ]
    },
    {
     "name": "stdout",
     "output_type": "stream",
     "text": [
      "INFO:tensorflow:Assets written to: model\\assets\n"
     ]
    },
    {
     "name": "stderr",
     "output_type": "stream",
     "text": [
      "INFO:tensorflow:Assets written to: model\\assets\n",
      "WARNING:absl:<keras.layers.recurrent.LSTMCell object at 0x000001F290423760> has the same name 'LSTMCell' as a built-in Keras object. Consider renaming <class 'keras.layers.recurrent.LSTMCell'> to avoid naming conflicts when loading with `tf.keras.models.load_model`. If renaming is not possible, pass the object in the `custom_objects` parameter of the load function.\n"
     ]
    },
    {
     "name": "stdout",
     "output_type": "stream",
     "text": [
      "141/141 [==============================] - 2s 18ms/step - loss: 0.1580 - val_loss: 0.1391\n",
      "Epoch 8/100\n",
      "140/141 [============================>.] - ETA: 0s - loss: 0.1635"
     ]
    },
    {
     "name": "stderr",
     "output_type": "stream",
     "text": [
      "WARNING:absl:Found untraced functions such as lstm_cell_1_layer_call_fn, lstm_cell_1_layer_call_and_return_conditional_losses while saving (showing 2 of 2). These functions will not be directly callable after loading.\n"
     ]
    },
    {
     "name": "stdout",
     "output_type": "stream",
     "text": [
      "INFO:tensorflow:Assets written to: model\\assets\n"
     ]
    },
    {
     "name": "stderr",
     "output_type": "stream",
     "text": [
      "INFO:tensorflow:Assets written to: model\\assets\n",
      "WARNING:absl:<keras.layers.recurrent.LSTMCell object at 0x000001F290423760> has the same name 'LSTMCell' as a built-in Keras object. Consider renaming <class 'keras.layers.recurrent.LSTMCell'> to avoid naming conflicts when loading with `tf.keras.models.load_model`. If renaming is not possible, pass the object in the `custom_objects` parameter of the load function.\n"
     ]
    },
    {
     "name": "stdout",
     "output_type": "stream",
     "text": [
      "141/141 [==============================] - 3s 18ms/step - loss: 0.1638 - val_loss: 0.1348\n",
      "Epoch 9/100\n",
      "141/141 [==============================] - 0s 3ms/step - loss: 0.1478 - val_loss: 0.1848\n",
      "Epoch 10/100\n",
      "141/141 [==============================] - 1s 4ms/step - loss: 0.1520 - val_loss: 0.1378\n",
      "Epoch 11/100\n",
      "140/141 [============================>.] - ETA: 0s - loss: 0.1446"
     ]
    },
    {
     "name": "stderr",
     "output_type": "stream",
     "text": [
      "WARNING:absl:Found untraced functions such as lstm_cell_1_layer_call_fn, lstm_cell_1_layer_call_and_return_conditional_losses while saving (showing 2 of 2). These functions will not be directly callable after loading.\n"
     ]
    },
    {
     "name": "stdout",
     "output_type": "stream",
     "text": [
      "INFO:tensorflow:Assets written to: model\\assets\n"
     ]
    },
    {
     "name": "stderr",
     "output_type": "stream",
     "text": [
      "INFO:tensorflow:Assets written to: model\\assets\n",
      "WARNING:absl:<keras.layers.recurrent.LSTMCell object at 0x000001F290423760> has the same name 'LSTMCell' as a built-in Keras object. Consider renaming <class 'keras.layers.recurrent.LSTMCell'> to avoid naming conflicts when loading with `tf.keras.models.load_model`. If renaming is not possible, pass the object in the `custom_objects` parameter of the load function.\n"
     ]
    },
    {
     "name": "stdout",
     "output_type": "stream",
     "text": [
      "141/141 [==============================] - 2s 17ms/step - loss: 0.1449 - val_loss: 0.1343\n",
      "Epoch 12/100\n",
      "125/141 [=========================>....] - ETA: 0s - loss: 0.1477"
     ]
    },
    {
     "name": "stderr",
     "output_type": "stream",
     "text": [
      "WARNING:absl:Found untraced functions such as lstm_cell_1_layer_call_fn, lstm_cell_1_layer_call_and_return_conditional_losses while saving (showing 2 of 2). These functions will not be directly callable after loading.\n"
     ]
    },
    {
     "name": "stdout",
     "output_type": "stream",
     "text": [
      "INFO:tensorflow:Assets written to: model\\assets\n"
     ]
    },
    {
     "name": "stderr",
     "output_type": "stream",
     "text": [
      "INFO:tensorflow:Assets written to: model\\assets\n",
      "WARNING:absl:<keras.layers.recurrent.LSTMCell object at 0x000001F290423760> has the same name 'LSTMCell' as a built-in Keras object. Consider renaming <class 'keras.layers.recurrent.LSTMCell'> to avoid naming conflicts when loading with `tf.keras.models.load_model`. If renaming is not possible, pass the object in the `custom_objects` parameter of the load function.\n"
     ]
    },
    {
     "name": "stdout",
     "output_type": "stream",
     "text": [
      "141/141 [==============================] - 3s 18ms/step - loss: 0.1483 - val_loss: 0.1330\n",
      "Epoch 13/100\n",
      "141/141 [==============================] - 0s 3ms/step - loss: 0.1436 - val_loss: 0.1336\n",
      "Epoch 14/100\n",
      "138/141 [============================>.] - ETA: 0s - loss: 0.1351"
     ]
    },
    {
     "name": "stderr",
     "output_type": "stream",
     "text": [
      "WARNING:absl:Found untraced functions such as lstm_cell_1_layer_call_fn, lstm_cell_1_layer_call_and_return_conditional_losses while saving (showing 2 of 2). These functions will not be directly callable after loading.\n"
     ]
    },
    {
     "name": "stdout",
     "output_type": "stream",
     "text": [
      "INFO:tensorflow:Assets written to: model\\assets\n"
     ]
    },
    {
     "name": "stderr",
     "output_type": "stream",
     "text": [
      "INFO:tensorflow:Assets written to: model\\assets\n",
      "WARNING:absl:<keras.layers.recurrent.LSTMCell object at 0x000001F290423760> has the same name 'LSTMCell' as a built-in Keras object. Consider renaming <class 'keras.layers.recurrent.LSTMCell'> to avoid naming conflicts when loading with `tf.keras.models.load_model`. If renaming is not possible, pass the object in the `custom_objects` parameter of the load function.\n"
     ]
    },
    {
     "name": "stdout",
     "output_type": "stream",
     "text": [
      "141/141 [==============================] - 2s 18ms/step - loss: 0.1342 - val_loss: 0.1259\n",
      "Epoch 15/100\n",
      "141/141 [==============================] - 0s 3ms/step - loss: 0.1345 - val_loss: 0.1272\n",
      "Epoch 16/100\n",
      "141/141 [==============================] - 0s 3ms/step - loss: 0.1427 - val_loss: 0.1284\n",
      "Epoch 17/100\n",
      "141/141 [==============================] - 0s 3ms/step - loss: 0.1277 - val_loss: 0.1310\n",
      "Epoch 18/100\n",
      "141/141 [==============================] - 0s 3ms/step - loss: 0.1339 - val_loss: 0.1473\n",
      "Epoch 19/100\n",
      "134/141 [===========================>..] - ETA: 0s - loss: 0.1335"
     ]
    },
    {
     "name": "stderr",
     "output_type": "stream",
     "text": [
      "WARNING:absl:Found untraced functions such as lstm_cell_1_layer_call_fn, lstm_cell_1_layer_call_and_return_conditional_losses while saving (showing 2 of 2). These functions will not be directly callable after loading.\n"
     ]
    },
    {
     "name": "stdout",
     "output_type": "stream",
     "text": [
      "INFO:tensorflow:Assets written to: model\\assets\n"
     ]
    },
    {
     "name": "stderr",
     "output_type": "stream",
     "text": [
      "INFO:tensorflow:Assets written to: model\\assets\n",
      "WARNING:absl:<keras.layers.recurrent.LSTMCell object at 0x000001F290423760> has the same name 'LSTMCell' as a built-in Keras object. Consider renaming <class 'keras.layers.recurrent.LSTMCell'> to avoid naming conflicts when loading with `tf.keras.models.load_model`. If renaming is not possible, pass the object in the `custom_objects` parameter of the load function.\n"
     ]
    },
    {
     "name": "stdout",
     "output_type": "stream",
     "text": [
      "141/141 [==============================] - 2s 16ms/step - loss: 0.1337 - val_loss: 0.1242\n",
      "Epoch 20/100\n",
      "141/141 [==============================] - 0s 3ms/step - loss: 0.1302 - val_loss: 0.1445\n",
      "Epoch 21/100\n",
      "141/141 [==============================] - 0s 3ms/step - loss: 0.1316 - val_loss: 0.1448\n",
      "Epoch 22/100\n",
      "141/141 [==============================] - 0s 3ms/step - loss: 0.1330 - val_loss: 0.1413\n",
      "Epoch 23/100\n",
      "131/141 [==========================>...] - ETA: 0s - loss: 0.1230"
     ]
    },
    {
     "name": "stderr",
     "output_type": "stream",
     "text": [
      "WARNING:absl:Found untraced functions such as lstm_cell_1_layer_call_fn, lstm_cell_1_layer_call_and_return_conditional_losses while saving (showing 2 of 2). These functions will not be directly callable after loading.\n"
     ]
    },
    {
     "name": "stdout",
     "output_type": "stream",
     "text": [
      "INFO:tensorflow:Assets written to: model\\assets\n"
     ]
    },
    {
     "name": "stderr",
     "output_type": "stream",
     "text": [
      "INFO:tensorflow:Assets written to: model\\assets\n",
      "WARNING:absl:<keras.layers.recurrent.LSTMCell object at 0x000001F290423760> has the same name 'LSTMCell' as a built-in Keras object. Consider renaming <class 'keras.layers.recurrent.LSTMCell'> to avoid naming conflicts when loading with `tf.keras.models.load_model`. If renaming is not possible, pass the object in the `custom_objects` parameter of the load function.\n"
     ]
    },
    {
     "name": "stdout",
     "output_type": "stream",
     "text": [
      "141/141 [==============================] - 3s 18ms/step - loss: 0.1239 - val_loss: 0.1234\n",
      "Epoch 24/100\n",
      "141/141 [==============================] - 0s 3ms/step - loss: 0.1199 - val_loss: 0.1752\n",
      "Epoch 25/100\n",
      "141/141 [==============================] - 0s 3ms/step - loss: 0.1221 - val_loss: 0.1267\n",
      "Epoch 26/100\n",
      "141/141 [==============================] - 0s 3ms/step - loss: 0.1247 - val_loss: 0.1344\n",
      "Epoch 27/100\n",
      "141/141 [==============================] - 0s 3ms/step - loss: 0.1199 - val_loss: 0.1251\n",
      "Epoch 28/100\n",
      "141/141 [==============================] - 0s 3ms/step - loss: 0.1211 - val_loss: 0.1759\n",
      "Epoch 29/100\n",
      "141/141 [==============================] - 0s 3ms/step - loss: 0.1239 - val_loss: 0.1342\n",
      "Epoch 30/100\n",
      "141/141 [==============================] - 0s 3ms/step - loss: 0.1180 - val_loss: 0.1339\n",
      "Epoch 31/100\n",
      "141/141 [==============================] - 0s 3ms/step - loss: 0.1187 - val_loss: 0.1273\n",
      "Epoch 32/100\n",
      "130/141 [==========================>...] - ETA: 0s - loss: 0.1199"
     ]
    },
    {
     "name": "stderr",
     "output_type": "stream",
     "text": [
      "WARNING:absl:Found untraced functions such as lstm_cell_1_layer_call_fn, lstm_cell_1_layer_call_and_return_conditional_losses while saving (showing 2 of 2). These functions will not be directly callable after loading.\n"
     ]
    },
    {
     "name": "stdout",
     "output_type": "stream",
     "text": [
      "INFO:tensorflow:Assets written to: model\\assets\n"
     ]
    },
    {
     "name": "stderr",
     "output_type": "stream",
     "text": [
      "INFO:tensorflow:Assets written to: model\\assets\n",
      "WARNING:absl:<keras.layers.recurrent.LSTMCell object at 0x000001F290423760> has the same name 'LSTMCell' as a built-in Keras object. Consider renaming <class 'keras.layers.recurrent.LSTMCell'> to avoid naming conflicts when loading with `tf.keras.models.load_model`. If renaming is not possible, pass the object in the `custom_objects` parameter of the load function.\n"
     ]
    },
    {
     "name": "stdout",
     "output_type": "stream",
     "text": [
      "141/141 [==============================] - 2s 17ms/step - loss: 0.1193 - val_loss: 0.1234\n",
      "Epoch 33/100\n",
      "141/141 [==============================] - 0s 3ms/step - loss: 0.1155 - val_loss: 0.1431\n",
      "Epoch 34/100\n",
      "141/141 [==============================] - 0s 3ms/step - loss: 0.1206 - val_loss: 0.1290\n",
      "Epoch 35/100\n",
      "127/141 [==========================>...] - ETA: 0s - loss: 0.1185"
     ]
    },
    {
     "name": "stderr",
     "output_type": "stream",
     "text": [
      "WARNING:absl:Found untraced functions such as lstm_cell_1_layer_call_fn, lstm_cell_1_layer_call_and_return_conditional_losses while saving (showing 2 of 2). These functions will not be directly callable after loading.\n"
     ]
    },
    {
     "name": "stdout",
     "output_type": "stream",
     "text": [
      "INFO:tensorflow:Assets written to: model\\assets\n"
     ]
    },
    {
     "name": "stderr",
     "output_type": "stream",
     "text": [
      "INFO:tensorflow:Assets written to: model\\assets\n",
      "WARNING:absl:<keras.layers.recurrent.LSTMCell object at 0x000001F290423760> has the same name 'LSTMCell' as a built-in Keras object. Consider renaming <class 'keras.layers.recurrent.LSTMCell'> to avoid naming conflicts when loading with `tf.keras.models.load_model`. If renaming is not possible, pass the object in the `custom_objects` parameter of the load function.\n"
     ]
    },
    {
     "name": "stdout",
     "output_type": "stream",
     "text": [
      "141/141 [==============================] - 2s 17ms/step - loss: 0.1173 - val_loss: 0.1217\n",
      "Epoch 36/100\n",
      "141/141 [==============================] - 0s 3ms/step - loss: 0.1278 - val_loss: 0.1316\n",
      "Epoch 37/100\n",
      "128/141 [==========================>...] - ETA: 0s - loss: 0.1182"
     ]
    },
    {
     "name": "stderr",
     "output_type": "stream",
     "text": [
      "WARNING:absl:Found untraced functions such as lstm_cell_1_layer_call_fn, lstm_cell_1_layer_call_and_return_conditional_losses while saving (showing 2 of 2). These functions will not be directly callable after loading.\n"
     ]
    },
    {
     "name": "stdout",
     "output_type": "stream",
     "text": [
      "INFO:tensorflow:Assets written to: model\\assets\n"
     ]
    },
    {
     "name": "stderr",
     "output_type": "stream",
     "text": [
      "INFO:tensorflow:Assets written to: model\\assets\n",
      "WARNING:absl:<keras.layers.recurrent.LSTMCell object at 0x000001F290423760> has the same name 'LSTMCell' as a built-in Keras object. Consider renaming <class 'keras.layers.recurrent.LSTMCell'> to avoid naming conflicts when loading with `tf.keras.models.load_model`. If renaming is not possible, pass the object in the `custom_objects` parameter of the load function.\n"
     ]
    },
    {
     "name": "stdout",
     "output_type": "stream",
     "text": [
      "141/141 [==============================] - 3s 18ms/step - loss: 0.1174 - val_loss: 0.1206\n",
      "Epoch 38/100\n",
      "141/141 [==============================] - 0s 3ms/step - loss: 0.1135 - val_loss: 0.1402\n",
      "Epoch 39/100\n",
      "141/141 [==============================] - 0s 3ms/step - loss: 0.1130 - val_loss: 0.1681\n",
      "Epoch 40/100\n",
      "141/141 [==============================] - 0s 3ms/step - loss: 0.1290 - val_loss: 0.1593\n",
      "Epoch 41/100\n",
      "141/141 [==============================] - 0s 3ms/step - loss: 0.1202 - val_loss: 0.1214\n",
      "Epoch 42/100\n",
      "141/141 [==============================] - 0s 3ms/step - loss: 0.1102 - val_loss: 0.1281\n",
      "Epoch 43/100\n",
      "141/141 [==============================] - 0s 3ms/step - loss: 0.1081 - val_loss: 0.1220\n",
      "Epoch 44/100\n",
      "141/141 [==============================] - 0s 3ms/step - loss: 0.1071 - val_loss: 0.2252\n",
      "Epoch 45/100\n",
      "131/141 [==========================>...] - ETA: 0s - loss: 0.1131"
     ]
    },
    {
     "name": "stderr",
     "output_type": "stream",
     "text": [
      "WARNING:absl:Found untraced functions such as lstm_cell_1_layer_call_fn, lstm_cell_1_layer_call_and_return_conditional_losses while saving (showing 2 of 2). These functions will not be directly callable after loading.\n"
     ]
    },
    {
     "name": "stdout",
     "output_type": "stream",
     "text": [
      "INFO:tensorflow:Assets written to: model\\assets\n"
     ]
    },
    {
     "name": "stderr",
     "output_type": "stream",
     "text": [
      "INFO:tensorflow:Assets written to: model\\assets\n",
      "WARNING:absl:<keras.layers.recurrent.LSTMCell object at 0x000001F290423760> has the same name 'LSTMCell' as a built-in Keras object. Consider renaming <class 'keras.layers.recurrent.LSTMCell'> to avoid naming conflicts when loading with `tf.keras.models.load_model`. If renaming is not possible, pass the object in the `custom_objects` parameter of the load function.\n"
     ]
    },
    {
     "name": "stdout",
     "output_type": "stream",
     "text": [
      "141/141 [==============================] - 2s 17ms/step - loss: 0.1116 - val_loss: 0.1203\n",
      "Epoch 46/100\n",
      "141/141 [==============================] - 0s 3ms/step - loss: 0.1247 - val_loss: 0.1448\n",
      "Epoch 47/100\n",
      "141/141 [==============================] - 0s 3ms/step - loss: 0.1093 - val_loss: 0.1211\n",
      "Epoch 48/100\n",
      "141/141 [==============================] - 0s 3ms/step - loss: 0.1153 - val_loss: 0.1448\n",
      "Epoch 49/100\n",
      "126/141 [=========================>....] - ETA: 0s - loss: 0.1124"
     ]
    },
    {
     "name": "stderr",
     "output_type": "stream",
     "text": [
      "WARNING:absl:Found untraced functions such as lstm_cell_1_layer_call_fn, lstm_cell_1_layer_call_and_return_conditional_losses while saving (showing 2 of 2). These functions will not be directly callable after loading.\n"
     ]
    },
    {
     "name": "stdout",
     "output_type": "stream",
     "text": [
      "INFO:tensorflow:Assets written to: model\\assets\n"
     ]
    },
    {
     "name": "stderr",
     "output_type": "stream",
     "text": [
      "INFO:tensorflow:Assets written to: model\\assets\n",
      "WARNING:absl:<keras.layers.recurrent.LSTMCell object at 0x000001F290423760> has the same name 'LSTMCell' as a built-in Keras object. Consider renaming <class 'keras.layers.recurrent.LSTMCell'> to avoid naming conflicts when loading with `tf.keras.models.load_model`. If renaming is not possible, pass the object in the `custom_objects` parameter of the load function.\n"
     ]
    },
    {
     "name": "stdout",
     "output_type": "stream",
     "text": [
      "141/141 [==============================] - 2s 16ms/step - loss: 0.1164 - val_loss: 0.1202\n",
      "Epoch 50/100\n",
      "141/141 [==============================] - 0s 3ms/step - loss: 0.1137 - val_loss: 0.1365\n",
      "Epoch 51/100\n",
      "141/141 [==============================] - 0s 3ms/step - loss: 0.1094 - val_loss: 0.1262\n",
      "Epoch 52/100\n",
      "141/141 [==============================] - 0s 3ms/step - loss: 0.1142 - val_loss: 0.1213\n",
      "Epoch 53/100\n",
      "141/141 [==============================] - 0s 3ms/step - loss: 0.1057 - val_loss: 0.1261\n",
      "Epoch 54/100\n",
      "141/141 [==============================] - 0s 3ms/step - loss: 0.1177 - val_loss: 0.2088\n",
      "Epoch 55/100\n",
      "141/141 [==============================] - 0s 3ms/step - loss: 0.1073 - val_loss: 0.1772\n",
      "Epoch 56/100\n",
      "141/141 [==============================] - 0s 3ms/step - loss: 0.1189 - val_loss: 0.1252\n",
      "Epoch 57/100\n",
      "141/141 [==============================] - 0s 3ms/step - loss: 0.1107 - val_loss: 0.1347\n",
      "Epoch 58/100\n",
      "126/141 [=========================>....] - ETA: 0s - loss: 0.1026"
     ]
    },
    {
     "name": "stderr",
     "output_type": "stream",
     "text": [
      "WARNING:absl:Found untraced functions such as lstm_cell_1_layer_call_fn, lstm_cell_1_layer_call_and_return_conditional_losses while saving (showing 2 of 2). These functions will not be directly callable after loading.\n"
     ]
    },
    {
     "name": "stdout",
     "output_type": "stream",
     "text": [
      "INFO:tensorflow:Assets written to: model\\assets\n"
     ]
    },
    {
     "name": "stderr",
     "output_type": "stream",
     "text": [
      "INFO:tensorflow:Assets written to: model\\assets\n",
      "WARNING:absl:<keras.layers.recurrent.LSTMCell object at 0x000001F290423760> has the same name 'LSTMCell' as a built-in Keras object. Consider renaming <class 'keras.layers.recurrent.LSTMCell'> to avoid naming conflicts when loading with `tf.keras.models.load_model`. If renaming is not possible, pass the object in the `custom_objects` parameter of the load function.\n"
     ]
    },
    {
     "name": "stdout",
     "output_type": "stream",
     "text": [
      "141/141 [==============================] - 3s 18ms/step - loss: 0.1036 - val_loss: 0.1187\n",
      "Epoch 59/100\n",
      "141/141 [==============================] - 0s 3ms/step - loss: 0.1079 - val_loss: 0.1422\n",
      "Epoch 60/100\n",
      "141/141 [==============================] - 0s 3ms/step - loss: 0.1126 - val_loss: 0.1683\n",
      "Epoch 61/100\n",
      "141/141 [==============================] - 0s 3ms/step - loss: 0.1100 - val_loss: 0.1679\n",
      "Epoch 62/100\n",
      "141/141 [==============================] - 0s 3ms/step - loss: 0.1094 - val_loss: 0.1197\n",
      "Epoch 63/100\n",
      "141/141 [==============================] - 0s 3ms/step - loss: 0.1059 - val_loss: 0.1224\n",
      "Epoch 64/100\n",
      "141/141 [==============================] - 0s 3ms/step - loss: 0.1077 - val_loss: 0.1736\n",
      "Epoch 65/100\n",
      "141/141 [==============================] - 0s 3ms/step - loss: 0.1006 - val_loss: 0.1363\n",
      "Epoch 66/100\n",
      "129/141 [==========================>...] - ETA: 0s - loss: 0.1014"
     ]
    },
    {
     "name": "stderr",
     "output_type": "stream",
     "text": [
      "WARNING:absl:Found untraced functions such as lstm_cell_1_layer_call_fn, lstm_cell_1_layer_call_and_return_conditional_losses while saving (showing 2 of 2). These functions will not be directly callable after loading.\n"
     ]
    },
    {
     "name": "stdout",
     "output_type": "stream",
     "text": [
      "INFO:tensorflow:Assets written to: model\\assets\n"
     ]
    },
    {
     "name": "stderr",
     "output_type": "stream",
     "text": [
      "INFO:tensorflow:Assets written to: model\\assets\n",
      "WARNING:absl:<keras.layers.recurrent.LSTMCell object at 0x000001F290423760> has the same name 'LSTMCell' as a built-in Keras object. Consider renaming <class 'keras.layers.recurrent.LSTMCell'> to avoid naming conflicts when loading with `tf.keras.models.load_model`. If renaming is not possible, pass the object in the `custom_objects` parameter of the load function.\n"
     ]
    },
    {
     "name": "stdout",
     "output_type": "stream",
     "text": [
      "141/141 [==============================] - 2s 17ms/step - loss: 0.1031 - val_loss: 0.1182\n",
      "Epoch 67/100\n",
      "141/141 [==============================] - 0s 3ms/step - loss: 0.1131 - val_loss: 0.1253\n",
      "Epoch 68/100\n",
      "141/141 [==============================] - 0s 3ms/step - loss: 0.1101 - val_loss: 0.1244\n",
      "Epoch 69/100\n",
      "141/141 [==============================] - 0s 3ms/step - loss: 0.1133 - val_loss: 0.1259\n",
      "Epoch 70/100\n",
      "141/141 [==============================] - 0s 3ms/step - loss: 0.1099 - val_loss: 0.1208\n",
      "Epoch 71/100\n",
      "141/141 [==============================] - 0s 3ms/step - loss: 0.1126 - val_loss: 0.1717\n",
      "Epoch 72/100\n",
      "141/141 [==============================] - 0s 3ms/step - loss: 0.1153 - val_loss: 0.1464\n",
      "Epoch 73/100\n",
      "141/141 [==============================] - 0s 3ms/step - loss: 0.1074 - val_loss: 0.1238\n",
      "Epoch 74/100\n",
      "141/141 [==============================] - 0s 3ms/step - loss: 0.1038 - val_loss: 0.1450\n",
      "Epoch 75/100\n",
      "141/141 [==============================] - 1s 4ms/step - loss: 0.1067 - val_loss: 0.1431\n",
      "Epoch 76/100\n",
      "141/141 [==============================] - 0s 3ms/step - loss: 0.1025 - val_loss: 0.1469\n",
      "Epoch 77/100\n",
      "141/141 [==============================] - 0s 3ms/step - loss: 0.1004 - val_loss: 0.1783\n",
      "Epoch 78/100\n",
      "128/141 [==========================>...] - ETA: 0s - loss: 0.1110"
     ]
    },
    {
     "name": "stderr",
     "output_type": "stream",
     "text": [
      "WARNING:absl:Found untraced functions such as lstm_cell_1_layer_call_fn, lstm_cell_1_layer_call_and_return_conditional_losses while saving (showing 2 of 2). These functions will not be directly callable after loading.\n"
     ]
    },
    {
     "name": "stdout",
     "output_type": "stream",
     "text": [
      "INFO:tensorflow:Assets written to: model\\assets\n"
     ]
    },
    {
     "name": "stderr",
     "output_type": "stream",
     "text": [
      "INFO:tensorflow:Assets written to: model\\assets\n",
      "WARNING:absl:<keras.layers.recurrent.LSTMCell object at 0x000001F290423760> has the same name 'LSTMCell' as a built-in Keras object. Consider renaming <class 'keras.layers.recurrent.LSTMCell'> to avoid naming conflicts when loading with `tf.keras.models.load_model`. If renaming is not possible, pass the object in the `custom_objects` parameter of the load function.\n"
     ]
    },
    {
     "name": "stdout",
     "output_type": "stream",
     "text": [
      "141/141 [==============================] - 2s 17ms/step - loss: 0.1095 - val_loss: 0.1178\n",
      "Epoch 79/100\n",
      "141/141 [==============================] - 0s 3ms/step - loss: 0.1078 - val_loss: 0.1204\n",
      "Epoch 80/100\n",
      "141/141 [==============================] - 1s 4ms/step - loss: 0.1021 - val_loss: 0.1181\n",
      "Epoch 81/100\n",
      "141/141 [==============================] - 1s 4ms/step - loss: 0.1085 - val_loss: 0.1187\n",
      "Epoch 82/100\n",
      "141/141 [==============================] - 1s 4ms/step - loss: 0.1057 - val_loss: 0.1537\n",
      "Epoch 83/100\n",
      "141/141 [==============================] - 0s 3ms/step - loss: 0.1031 - val_loss: 0.1455\n",
      "Epoch 84/100\n",
      "141/141 [==============================] - 0s 3ms/step - loss: 0.1002 - val_loss: 0.1226\n",
      "Epoch 85/100\n",
      "141/141 [==============================] - 1s 4ms/step - loss: 0.1004 - val_loss: 0.1202\n",
      "Epoch 86/100\n",
      "141/141 [==============================] - 1s 4ms/step - loss: 0.1002 - val_loss: 0.1187\n",
      "Epoch 87/100\n",
      "127/141 [==========================>...] - ETA: 0s - loss: 0.1039"
     ]
    },
    {
     "name": "stderr",
     "output_type": "stream",
     "text": [
      "WARNING:absl:Found untraced functions such as lstm_cell_1_layer_call_fn, lstm_cell_1_layer_call_and_return_conditional_losses while saving (showing 2 of 2). These functions will not be directly callable after loading.\n"
     ]
    },
    {
     "name": "stdout",
     "output_type": "stream",
     "text": [
      "INFO:tensorflow:Assets written to: model\\assets\n"
     ]
    },
    {
     "name": "stderr",
     "output_type": "stream",
     "text": [
      "INFO:tensorflow:Assets written to: model\\assets\n",
      "WARNING:absl:<keras.layers.recurrent.LSTMCell object at 0x000001F290423760> has the same name 'LSTMCell' as a built-in Keras object. Consider renaming <class 'keras.layers.recurrent.LSTMCell'> to avoid naming conflicts when loading with `tf.keras.models.load_model`. If renaming is not possible, pass the object in the `custom_objects` parameter of the load function.\n"
     ]
    },
    {
     "name": "stdout",
     "output_type": "stream",
     "text": [
      "141/141 [==============================] - 3s 20ms/step - loss: 0.1027 - val_loss: 0.1174\n",
      "Epoch 88/100\n",
      "141/141 [==============================] - 1s 4ms/step - loss: 0.1041 - val_loss: 0.1184\n",
      "Epoch 89/100\n",
      "141/141 [==============================] - 0s 3ms/step - loss: 0.1067 - val_loss: 0.1185\n",
      "Epoch 90/100\n",
      "141/141 [==============================] - 1s 4ms/step - loss: 0.1097 - val_loss: 0.1401\n",
      "Epoch 91/100\n",
      "141/141 [==============================] - 1s 4ms/step - loss: 0.1027 - val_loss: 0.1207\n",
      "Epoch 92/100\n",
      "141/141 [==============================] - 0s 3ms/step - loss: 0.0992 - val_loss: 0.1205\n",
      "Epoch 93/100\n",
      "141/141 [==============================] - 0s 3ms/step - loss: 0.1048 - val_loss: 0.1755\n",
      "Epoch 94/100\n",
      "141/141 [==============================] - 0s 3ms/step - loss: 0.1051 - val_loss: 0.1327\n",
      "Epoch 95/100\n",
      "141/141 [==============================] - 0s 3ms/step - loss: 0.1039 - val_loss: 0.1267\n",
      "Epoch 96/100\n",
      "141/141 [==============================] - 1s 3ms/step - loss: 0.0992 - val_loss: 0.1199\n",
      "Epoch 97/100\n",
      "141/141 [==============================] - 1s 4ms/step - loss: 0.1126 - val_loss: 0.1246\n",
      "Epoch 98/100\n",
      "141/141 [==============================] - 1s 4ms/step - loss: 0.1016 - val_loss: 0.1244\n",
      "Epoch 99/100\n",
      "141/141 [==============================] - 1s 4ms/step - loss: 0.1021 - val_loss: 0.1357\n",
      "Epoch 100/100\n",
      "141/141 [==============================] - 1s 4ms/step - loss: 0.1026 - val_loss: 0.2033\n"
     ]
    }
   ],
   "source": [
    "history = model.fit(X_train, y_train, validation_data = (X_val, y_val), epochs = 100, callbacks = [cp], batch_size = 32)"
   ]
  },
  {
   "cell_type": "code",
   "execution_count": 48,
   "id": "d6980aae",
   "metadata": {},
   "outputs": [
    {
     "data": {
      "image/png": "[encoded data removed]",
      "text/plain": [
       "<Figure size 432x288 with 1 Axes>"
      ]
     },
     "metadata": {
      "needs_background": "light"
     },
     "output_type": "display_data"
    }
   ],
   "source": [
    "dictry = {\"Train Loss\":history.history[\"loss\"], \"Validation Loss\": history.history[\"val_loss\"]}\n",
    "plt.plot(dictry[\"Train Loss\"], label = \"Train Loss\", color = \"red\")\n",
    "plt.plot(dictry[\"Validation Loss\"], label = \"Validation Loss\", color = \"blue\")\n",
    "plt.legend();"
   ]
  },
  {
   "cell_type": "code",
   "execution_count": 49,
   "id": "777ccafe",
   "metadata": {},
   "outputs": [],
   "source": [
    "from tensorflow.keras.models import load_model\n",
    "model = load_model(\"model/\")"
   ]
  },
  {
   "cell_type": "markdown",
   "id": "4dffe17f",
   "metadata": {},
   "source": [
    "kaydedilen modeli load ediyoruz."
   ]
  },
  {
   "cell_type": "code",
   "execution_count": 50,
   "id": "311eb3dd",
   "metadata": {},
   "outputs": [],
   "source": [
    "y_test_pred = model.predict(X_test)\n",
    "y_train_pred = model.predict(X_train)\n",
    "y_val_pred = model.predict(X_val)"
   ]
  },
  {
   "cell_type": "markdown",
   "id": "2fc840db",
   "metadata": {},
   "source": [
    "Öncelikle Test setimizin ilk 7 günlük ardından test data üzerinden tahmin ettiğimiz ilk 7 günlük değerleri inceliyoruz."
   ]
  },
  {
   "cell_type": "code",
   "execution_count": 64,
   "id": "7b1e8e22",
   "metadata": {},
   "outputs": [
    {
     "data": {
      "text/plain": [
       "array([5.78999996, 5.78999996, 5.67999983, 5.69000006, 5.73999977,\n",
       "       6.03999996, 5.92000008])"
      ]
     },
     "execution_count": 64,
     "metadata": {},
     "output_type": "execute_result"
    }
   ],
   "source": [
    "y_test[1]"
   ]
  },
  {
   "cell_type": "code",
   "execution_count": 65,
   "id": "9dd57d57",
   "metadata": {},
   "outputs": [
    {
     "data": {
      "text/plain": [
       "array([5.6547904, 5.6783485, 5.681908 , 5.698029 , 5.692752 , 5.68041  ,\n",
       "       5.7114553], dtype=float32)"
      ]
     },
     "execution_count": 65,
     "metadata": {},
     "output_type": "execute_result"
    }
   ],
   "source": [
    "y_test_pred[1]"
   ]
  },
  {
   "cell_type": "code",
   "execution_count": null,
   "id": "5d102049",
   "metadata": {},
   "outputs": [],
   "source": [
    "Görüldüğü gibi gerçek değerlerle tahmin ettiğimiz değerler birbirine oldukça yakın. "
   ]
  },
  {
   "cell_type": "code",
   "execution_count": 51,
   "id": "7216bca5",
   "metadata": {},
   "outputs": [
    {
     "data": {
      "image/png": "[encoded data removed]",
      "text/plain": [
       "<Figure size 432x288 with 1 Axes>"
      ]
     },
     "metadata": {
      "needs_background": "light"
     },
     "output_type": "display_data"
    }
   ],
   "source": [
    "plt.plot(y_test, color = \"red\")\n",
    "plt.plot(y_test_pred, color = \"blue\")\n",
    "plt.show();"
   ]
  },
  {
   "cell_type": "code",
   "execution_count": 62,
   "id": "114c2095",
   "metadata": {},
   "outputs": [
    {
     "data": {
      "image/png": "[encoded data removed]",
      "text/plain": [
       "<Figure size 432x288 with 1 Axes>"
      ]
     },
     "metadata": {
      "needs_background": "light"
     },
     "output_type": "display_data"
    }
   ],
   "source": [
    "plt.plot(y_val, color = \"red\")\n",
    "plt.plot(y_val_pred, color = \"blue\")\n",
    "plt.show()"
   ]
  },
  {
   "cell_type": "code",
   "execution_count": 63,
   "id": "2864b2a6",
   "metadata": {},
   "outputs": [
    {
     "data": {
      "image/png": "[encoded data removed]",
      "text/plain": [
       "<Figure size 432x288 with 1 Axes>"
      ]
     },
     "metadata": {
      "needs_background": "light"
     },
     "output_type": "display_data"
    }
   ],
   "source": [
    "plt.plot(y_train[2500:], color = \"red\")\n",
    "plt.plot(y_train_pred[2500:], color = \"blue\")\n",
    "plt.show()"
   ]
  },
  {
   "cell_type": "markdown",
   "id": "4dbdc412",
   "metadata": {},
   "source": [
    "görüldğü gibi hem train hem validation hemde test setlerinde tahmin ve gerçek değerler birbirine çok yakın.."
   ]
  },
  {
   "cell_type": "code",
   "execution_count": null,
   "id": "a5f7b0b7",
   "metadata": {},
   "outputs": [],
   "source": [
    "y_test[:1]"
   ]
  },
  {
   "cell_type": "code",
   "execution_count": 54,
   "id": "fa373574",
   "metadata": {},
   "outputs": [],
   "source": [
    "r2_test = r2_score(y_test, y_test_pred)\n",
    "mae_test = mean_absolute_error(y_test, y_test_pred)\n",
    "mse_test = mean_squared_error(y_test, y_test_pred)\n",
    "rmse_test = np.sqrt(mean_squared_error(y_test, y_test_pred))"
   ]
  },
  {
   "cell_type": "code",
   "execution_count": 55,
   "id": "d68961cb",
   "metadata": {},
   "outputs": [],
   "source": [
    "r2_train = r2_score(y_train, y_train_pred)\n",
    "mae_train = mean_absolute_error(y_train, y_train_pred)\n",
    "mse_train = mean_squared_error(y_train, y_train_pred)\n",
    "rmse_train = np.sqrt(mean_squared_error(y_train, y_train_pred))"
   ]
  },
  {
   "cell_type": "code",
   "execution_count": 56,
   "id": "c82b9817",
   "metadata": {},
   "outputs": [],
   "source": [
    "r2_val = r2_score(y_val, y_val_pred)\n",
    "mae_val = mean_absolute_error(y_val, y_val_pred)\n",
    "mse_val = mean_squared_error(y_val, y_val_pred)\n",
    "rmse_val = np.sqrt(mean_squared_error(y_val, y_val_pred))"
   ]
  },
  {
   "cell_type": "code",
   "execution_count": 59,
   "id": "1e09205b",
   "metadata": {},
   "outputs": [
    {
     "data": {
      "text/html": [
       "<div>\n",
       "<style scoped>\n",
       "    .dataframe tbody tr th:only-of-type {\n",
       "        vertical-align: middle;\n",
       "    }\n",
       "\n",
       "    .dataframe tbody tr th {\n",
       "        vertical-align: top;\n",
       "    }\n",
       "\n",
       "    .dataframe thead th {\n",
       "        text-align: right;\n",
       "    }\n",
       "</style>\n",
       "<table border=\"1\" class=\"dataframe\">\n",
       "  <thead>\n",
       "    <tr style=\"text-align: right;\">\n",
       "      <th></th>\n",
       "      <th>R2 Score</th>\n",
       "      <th>Mean Absolute Error</th>\n",
       "      <th>Mean Squared Error</th>\n",
       "      <th>Root Mean Squared Error</th>\n",
       "    </tr>\n",
       "  </thead>\n",
       "  <tbody>\n",
       "    <tr>\n",
       "      <th>Train Data</th>\n",
       "      <td>0.991394</td>\n",
       "      <td>0.159115</td>\n",
       "      <td>0.052109</td>\n",
       "      <td>0.228273</td>\n",
       "    </tr>\n",
       "    <tr>\n",
       "      <th>Validation Data</th>\n",
       "      <td>0.866956</td>\n",
       "      <td>0.252589</td>\n",
       "      <td>0.117440</td>\n",
       "      <td>0.342695</td>\n",
       "    </tr>\n",
       "    <tr>\n",
       "      <th>Test Data</th>\n",
       "      <td>0.927637</td>\n",
       "      <td>0.219324</td>\n",
       "      <td>0.108362</td>\n",
       "      <td>0.329184</td>\n",
       "    </tr>\n",
       "  </tbody>\n",
       "</table>\n",
       "</div>"
      ],
      "text/plain": [
       "                 R2 Score  Mean Absolute Error  Mean Squared Error  \\\n",
       "Train Data       0.991394             0.159115            0.052109   \n",
       "Validation Data  0.866956             0.252589            0.117440   \n",
       "Test Data        0.927637             0.219324            0.108362   \n",
       "\n",
       "                 Root Mean Squared Error  \n",
       "Train Data                      0.228273  \n",
       "Validation Data                 0.342695  \n",
       "Test Data                       0.329184  "
      ]
     },
     "execution_count": 59,
     "metadata": {},
     "output_type": "execute_result"
    }
   ],
   "source": [
    "scores = { \n",
    "    \"Train Data\" : {\"R2 Score\" : r2_train,\n",
    "                      \"Mean Absolute Error\" : mae_train,\n",
    "                      \"Mean Squared Error\" : mse_train,\n",
    "                    \"Root Mean Squared Error\" : rmse_train},\n",
    "        \"Validation Data\" : {\"R2 Score\" : r2_val,\n",
    "                      \"Mean Absolute Error\" : mae_val,\n",
    "                      \"Mean Squared Error\" : mse_val,\n",
    "                    \"Root Mean Squared Error\" : rmse_val},\n",
    "        \"Test Data \" : {\"R2 Score\" : r2_test,\n",
    "                      \"Mean Absolute Error\" : mae_test,\n",
    "                      \"Mean Squared Error\" : mse_test,\n",
    "                    \"Root Mean Squared Error\" : rmse_test} \n",
    "        }\n",
    "Scores = pd.DataFrame(scores)\n",
    "Scores.T"
   ]
  },
  {
   "cell_type": "markdown",
   "id": "30890761",
   "metadata": {},
   "source": [
    "R2 scorlarımız ve Hata metriclerimiz tabloda. Modelimizde gayet iyi çalışıyor. Şu unutulmamalıdır ki modelimizin ileri doğru tahmin gün sayısı arttıkça  tarin ve validation setlerinde hatalarımız artacaktır."
   ]
  }
 ],
 "metadata": {
  "kernelspec": {
   "display_name": "Python 3 (ipykernel)",
   "language": "python",
   "name": "python3"
  },
  "language_info": {
   "codemirror_mode": {
    "name": "ipython",
    "version": 3
   },
   "file_extension": ".py",
   "mimetype": "text/x-python",
   "name": "python",
   "nbconvert_exporter": "python",
   "pygments_lexer": "ipython3",
   "version": "3.9.7"
  }
 },
 "nbformat": 4,
 "nbformat_minor": 5
}
